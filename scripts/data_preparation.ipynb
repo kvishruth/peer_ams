{
 "cells": [
  {
   "cell_type": "code",
   "execution_count": 125,
   "metadata": {},
   "outputs": [],
   "source": [
    "import numpy as np\n",
    "import helpers as h\n",
    "import networkx as nx\n",
    "import pickle\n",
    "\n",
    "import zipfile\n",
    "from io import BytesIO\n",
    "import geopandas as gpd\n",
    "from geopandas import GeoDataFrame\n",
    "from shapely.geometry import MultiPoint\n",
    "from shapely.geometry import Point\n",
    "import pyproj\n",
    "\n",
    "import momepy\n"
   ]
  },
  {
   "cell_type": "code",
   "execution_count": 126,
   "metadata": {},
   "outputs": [],
   "source": [
    "#accessed zipped geojson - please note this is a subset of the original data. The data is a spatial subset for two neighbourhoods - Osdorp Midden & Nieuwmarkt\n",
    "gdf_path = \"data/accessibility_dataset.gpkg\"\n",
    "gdf = gpd.read_file(gdf_path)"
   ]
  },
  {
   "cell_type": "code",
   "execution_count": 127,
   "metadata": {},
   "outputs": [],
   "source": [
    "#settings\n",
    "\n",
    "max_curb_height = 0.04  # m\n",
    "min_sidewalk_width = 0.80  # m\n",
    "\n",
    "# Boundaries between the final colors (in meters)\n",
    "width_1 = 0.6\n",
    "width_2 = 0.8\n",
    "width_3 = 1.0\n",
    "width_4 = 1.2\n",
    "width_5 = 1.4\n",
    "width_6 = 1.6"
   ]
  },
  {
   "cell_type": "markdown",
   "metadata": {},
   "source": [
    "### Set hard limits (remove inaccessible curbs based on height)"
   ]
  },
  {
   "cell_type": "code",
   "execution_count": 128,
   "metadata": {},
   "outputs": [],
   "source": [
    "gdf['include'] = 1 "
   ]
  },
  {
   "cell_type": "code",
   "execution_count": 129,
   "metadata": {},
   "outputs": [
    {
     "data": {
      "text/plain": [
       "curb_height_max\n",
       "0.08    12382\n",
       "0.06     8757\n",
       "0.04     5925\n",
       "Name: count, dtype: int64"
      ]
     },
     "execution_count": 129,
     "metadata": {},
     "output_type": "execute_result"
    }
   ],
   "source": [
    "# Check if there are any curb height crossings without max height\n",
    "\n",
    "gdf[gdf['crossing_type'] == 'curb_height']['curb_height_max'].value_counts(dropna=False)"
   ]
  },
  {
   "cell_type": "code",
   "execution_count": 130,
   "metadata": {},
   "outputs": [],
   "source": [
    "# Don't include crossings with curbs that are too high\n",
    "gdf.loc[gdf['curb_height_max'] > max_curb_height, 'include'] = 0"
   ]
  },
  {
   "cell_type": "code",
   "execution_count": 131,
   "metadata": {},
   "outputs": [
    {
     "name": "stdout",
     "output_type": "stream",
     "text": [
      "curb_height_max\n",
      "NaN     54084\n",
      "0.08    12382\n",
      "0.06     8757\n",
      "0.04     5925\n",
      "Name: count, dtype: int64\n",
      "include\n",
      "1    60009\n",
      "0    21139\n",
      "Name: count, dtype: int64\n"
     ]
    }
   ],
   "source": [
    "# Check if the right amount of paths are included\n",
    "print(gdf['curb_height_max'].value_counts(dropna=False))\n",
    "print(gdf['include'].value_counts(dropna=False))"
   ]
  },
  {
   "cell_type": "markdown",
   "metadata": {},
   "source": [
    "### Set hard limits (remove inaccessible curbs based on width)"
   ]
  },
  {
   "cell_type": "code",
   "execution_count": 132,
   "metadata": {},
   "outputs": [],
   "source": [
    "# Give crossings a width\n",
    "gdf.loc[gdf['crossing'] == 'Yes', 'obstacle_free_width_float'] = width_6\n",
    "gdf.loc[gdf['crossing'] == 'Yes', 'width_fill'] = 4\n",
    "\n",
    "# Give bike paths a width\n",
    "gdf.loc[~gdf['bikepath_id'].isnull(), 'obstacle_free_width_float'] = width_5\n",
    "gdf.loc[~gdf['bikepath_id'].isnull(), 'width_fill'] = 4\n",
    "\n",
    "# Give walk bike connections a width\n",
    "gdf.loc[gdf['walk_bike_connection'] == 'Yes', 'obstacle_free_width_float'] = width_5\n",
    "gdf.loc[gdf['walk_bike_connection'] == 'Yes', 'width_fill'] = 4\n",
    "\n",
    "# Give walk public transport stop connections a width if unknown\n",
    "gdf.loc[(gdf['walk_pt_connection'] == 'Yes') & gdf['obstacle_free_width_float'].isnull(), 'width_fill'] = 4\n",
    "gdf.loc[(gdf['walk_pt_connection'] == 'Yes') & gdf['obstacle_free_width_float'].isnull(), 'obstacle_free_width_float'] = width_2"
   ]
  },
  {
   "cell_type": "code",
   "execution_count": 133,
   "metadata": {},
   "outputs": [
    {
     "data": {
      "text/html": [
       "<div>\n",
       "<style scoped>\n",
       "    .dataframe tbody tr th:only-of-type {\n",
       "        vertical-align: middle;\n",
       "    }\n",
       "\n",
       "    .dataframe tbody tr th {\n",
       "        vertical-align: top;\n",
       "    }\n",
       "\n",
       "    .dataframe thead th {\n",
       "        text-align: right;\n",
       "    }\n",
       "</style>\n",
       "<table border=\"1\" class=\"dataframe\">\n",
       "  <thead>\n",
       "    <tr style=\"text-align: right;\">\n",
       "      <th></th>\n",
       "      <th>path_type</th>\n",
       "      <th>length</th>\n",
       "      <th>sidewalk_id</th>\n",
       "      <th>bikepath_id</th>\n",
       "      <th>obstacle_free_width</th>\n",
       "      <th>obstacle_free_width_float</th>\n",
       "      <th>width_fill</th>\n",
       "      <th>crossing</th>\n",
       "      <th>crossing_type</th>\n",
       "      <th>curb_height_max</th>\n",
       "      <th>walk_bike_connection</th>\n",
       "      <th>walk_pt_connection</th>\n",
       "      <th>public_transport_stop</th>\n",
       "      <th>stop_type</th>\n",
       "      <th>stop_name</th>\n",
       "      <th>stop_placement_type</th>\n",
       "      <th>wheelchair_accessible</th>\n",
       "      <th>geometry</th>\n",
       "      <th>include</th>\n",
       "    </tr>\n",
       "  </thead>\n",
       "  <tbody>\n",
       "  </tbody>\n",
       "</table>\n",
       "</div>"
      ],
      "text/plain": [
       "Empty GeoDataFrame\n",
       "Columns: [path_type, length, sidewalk_id, bikepath_id, obstacle_free_width, obstacle_free_width_float, width_fill, crossing, crossing_type, curb_height_max, walk_bike_connection, walk_pt_connection, public_transport_stop, stop_type, stop_name, stop_placement_type, wheelchair_accessible, geometry, include]\n",
       "Index: []"
      ]
     },
     "execution_count": 133,
     "metadata": {},
     "output_type": "execute_result"
    }
   ],
   "source": [
    "# Check if there are any remaining paths without width\n",
    "gdf.loc[(gdf['obstacle_free_width_float'].isnull()) & (gdf['public_transport_stop'] == 'No')]"
   ]
  },
  {
   "cell_type": "code",
   "execution_count": 134,
   "metadata": {},
   "outputs": [],
   "source": [
    "# Don't include paths that are too narrow\n",
    "gdf.loc[gdf['obstacle_free_width_float'] < min_sidewalk_width, 'include'] = 0"
   ]
  },
  {
   "cell_type": "code",
   "execution_count": 135,
   "metadata": {},
   "outputs": [
    {
     "name": "stdout",
     "output_type": "stream",
     "text": [
      "obstacle_free_width_float\n",
      "1.60    65159\n",
      "1.40     6920\n",
      "0.40     2292\n",
      "1.00     1823\n",
      "0.80     1805\n",
      "1.20     1725\n",
      "0.60     1358\n",
      "0.90        6\n",
      "1.10        6\n",
      "1.15        4\n",
      "1.30        4\n",
      "1.50        4\n",
      "1.45        4\n",
      "2.40        4\n",
      "1.80        3\n",
      "0.50        2\n",
      "0.91        2\n",
      "3.15        2\n",
      "3.20        2\n",
      "2.00        2\n",
      "1.65        2\n",
      "1.05        2\n",
      "1.25        2\n",
      "Name: count, dtype: int64\n",
      "include\n",
      "1    56357\n",
      "0    24791\n",
      "Name: count, dtype: int64\n"
     ]
    }
   ],
   "source": [
    "# Check if the right amount of paths are included\n",
    "print(gdf['obstacle_free_width_float'].value_counts())\n",
    "print(gdf['include'].value_counts(dropna=False))"
   ]
  },
  {
   "cell_type": "markdown",
   "metadata": {},
   "source": [
    "### Further preprocessing"
   ]
  },
  {
   "cell_type": "code",
   "execution_count": 136,
   "metadata": {},
   "outputs": [],
   "source": [
    "## Further preprocessing , to get columns for the different objectives\n",
    "\n",
    "gdf_accessible = gdf.copy()\n",
    "gdf_accessible['id'] = 'id'+'_'+(gdf.reset_index()['index']).astype(str)\n",
    "\n",
    "pivoted = gdf_accessible.pivot_table(\n",
    "    index='id',     \n",
    "    columns='path_type',      \n",
    "    values='length',          \n",
    "    aggfunc='sum')\n",
    "\n",
    "\n",
    "pivoted.reset_index(inplace=True)\n",
    "gdf_accessible_pivot = gdf_accessible.merge(pivoted, on='id', how='left')\n",
    "gdf_accessible_pivot['crossing'] = gdf_accessible_pivot['crossing'].map({\"Yes\":1, \"No\":0})\n",
    "gdf_accessible_pivot['public_transport_stop'] = gdf_accessible_pivot['public_transport_stop'].map({\"Yes\":1, \"No\":0})\n",
    "gdf_accessible_pivot['walk_pt_connection'] = gdf_accessible_pivot['walk_pt_connection'].map({\"Yes\":1, \"No\":0})\n",
    "\n",
    "gdf_accessible_pivot = gdf_accessible_pivot[['path_type','length','walk','walk_bike_connection_x','crossing','bike','obstacle_free_width_float','curb_height_max','walk_pt_connection','public_transport_stop','stop_name','geometry']]\n",
    "gdf_accessible_pivot = gdf_accessible_pivot.rename(columns={'walk_bike_connection_x':'walk_bike_connection'})\n",
    "gdf_accessible_pivot = gdf_accessible_pivot.rename(columns={'public_transport_stop_y':'public_transport_stop'})\n",
    "\n",
    "gdf_accessible_pivot['oneway'] = np.where(gdf_accessible_pivot['path_type']=='walk',False,True)\n",
    "gdf_accessible_pivot = GeoDataFrame(gdf_accessible_pivot, crs=\"EPSG:28992\", geometry='geometry')"
   ]
  },
  {
   "cell_type": "markdown",
   "metadata": {},
   "source": [
    "#### Add distance to public transport per edge"
   ]
  },
  {
   "cell_type": "code",
   "execution_count": 137,
   "metadata": {},
   "outputs": [
    {
     "name": "stderr",
     "output_type": "stream",
     "text": [
      "C:\\Users\\krishn001\\AppData\\Local\\Temp\\ipykernel_30016\\913432006.py:3: DeprecationWarning: DataFrameGroupBy.apply operated on the grouping columns. This behavior is deprecated, and in a future version of pandas the grouping columns will be excluded from the operation. Either pass `include_groups=False` to exclude the groupings or explicitly select the grouping columns after groupby to silence this warning.\n",
      "  .apply(h.calculate_centroid)\n",
      "c:\\Users\\krishn001\\AppData\\Local\\anaconda3\\envs\\rl\\Lib\\site-packages\\shapely\\measurement.py:72: RuntimeWarning: invalid value encountered in distance\n",
      "  return lib.distance(a, b, **kwargs)\n"
     ]
    }
   ],
   "source": [
    "centroids = (\n",
    "    gdf_accessible_pivot[gdf_accessible_pivot['public_transport_stop']==1].groupby(\"stop_name\")\n",
    "    .apply(h.calculate_centroid)\n",
    "    .reset_index(name=\"centroid_geometry\")\n",
    ")\n",
    "\n",
    "# Convert to GeoDataFrame\n",
    "centroids_gdf = gpd.GeoDataFrame(centroids, geometry=\"centroid_geometry\",crs=\"EPSG:28992\")\n",
    "\n",
    "# Ensure both GeoDataFrames share the same CRS\n",
    "if gdf_accessible_pivot.crs != centroids_gdf.crs:\n",
    "    centroids_gdf = centroids_gdf.to_crs(gdf_accessible_pivot.crs)\n",
    "\n",
    "gdf_accessible_pivot[\"distance_to_pt_stops_float\"] = gdf.apply(\n",
    "    lambda row: h.shortest_distance(row, centroids_gdf[\"centroid_geometry\"]),\n",
    "    axis=1,\n",
    ")"
   ]
  },
  {
   "cell_type": "code",
   "execution_count": 138,
   "metadata": {},
   "outputs": [
    {
     "name": "stderr",
     "output_type": "stream",
     "text": [
      "C:\\Users\\krishn001\\AppData\\Local\\Temp\\ipykernel_30016\\293227496.py:4: FutureWarning: Setting an item of incompatible dtype is deprecated and will raise an error in a future version of pandas. Value '<400' has dtype incompatible with int64, please explicitly cast to a compatible dtype first.\n",
      "  gdf_accessible_pivot.loc[(gdf_accessible_pivot['distance_to_pt_stops_float']>=0) & (gdf_accessible_pivot['distance_to_pt_stops_float']<400),'distance_to_pt_stops' ] = '<400'\n"
     ]
    }
   ],
   "source": [
    "## convert column distance_to_pt_stops to <300m and >= 300m\n",
    "\n",
    "gdf_accessible_pivot['distance_to_pt_stops'] = 0\n",
    "gdf_accessible_pivot.loc[(gdf_accessible_pivot['distance_to_pt_stops_float']>=0) & (gdf_accessible_pivot['distance_to_pt_stops_float']<400),'distance_to_pt_stops' ] = '<400'\n",
    "gdf_accessible_pivot.loc[(gdf_accessible_pivot['distance_to_pt_stops_float']>=400) ,'distance_to_pt_stops' ] = '>=400'"
   ]
  },
  {
   "cell_type": "code",
   "execution_count": 139,
   "metadata": {},
   "outputs": [],
   "source": [
    "gdf_accessible_pivot = gdf_accessible_pivot.fillna(0)"
   ]
  },
  {
   "cell_type": "markdown",
   "metadata": {},
   "source": [
    "### Spatial subsets per neighbourhood"
   ]
  },
  {
   "cell_type": "code",
   "execution_count": 140,
   "metadata": {},
   "outputs": [
    {
     "name": "stderr",
     "output_type": "stream",
     "text": [
      "C:\\Users\\krishn001\\AppData\\Local\\Temp\\ipykernel_30016\\635274422.py:17: RuntimeWarning: The given network consists of multiple geometry types. This can lead to unexpected behaviour. The intended usage of the conversion function is with networks made of LineStrings only.\n",
      "  G_nwmkt = momepy.gdf_to_nx(df_network_nwmkt, approach=\"primal\", multigraph=True, directed=True, oneway_column=\"oneway\")\n",
      "C:\\Users\\krishn001\\AppData\\Local\\Temp\\ipykernel_30016\\635274422.py:18: RuntimeWarning: The given network consists of multiple geometry types. This can lead to unexpected behaviour. The intended usage of the conversion function is with networks made of LineStrings only.\n",
      "  G_osdpm = momepy.gdf_to_nx(df_network_osdpm, approach=\"primal\", multigraph=True, directed=True, oneway_column=\"oneway\")\n",
      "c:\\Users\\krishn001\\peer_ams\\helpers.py:63: RuntimeWarning: The given network consists of multiple geometry types. This can lead to unexpected behaviour. The intended usage of the conversion function is with networks made of LineStrings only.\n",
      "  G_subset = momepy.gdf_to_nx(gdf_sub_loc)\n",
      "c:\\Users\\krishn001\\peer_ams\\helpers.py:63: RuntimeWarning: The given network consists of multiple geometry types. This can lead to unexpected behaviour. The intended usage of the conversion function is with networks made of LineStrings only.\n",
      "  G_subset = momepy.gdf_to_nx(gdf_sub_loc)\n",
      "C:\\Users\\krishn001\\AppData\\Local\\Temp\\ipykernel_30016\\635274422.py:24: RuntimeWarning: The given network consists of multiple geometry types. This can lead to unexpected behaviour. The intended usage of the conversion function is with networks made of LineStrings only.\n",
      "  G_nwmkt_pt = momepy.gdf_to_nx(df_network_nwmkt[df_network_nwmkt['distance_to_pt_stops']=='<400'], approach=\"primal\", multigraph=True, directed=True, oneway_column=\"oneway\")\n",
      "C:\\Users\\krishn001\\AppData\\Local\\Temp\\ipykernel_30016\\635274422.py:25: RuntimeWarning: The given network consists of multiple geometry types. This can lead to unexpected behaviour. The intended usage of the conversion function is with networks made of LineStrings only.\n",
      "  G_osdpm_pt = momepy.gdf_to_nx(df_network_osdpm[df_network_osdpm['distance_to_pt_stops']=='<400'], approach=\"primal\", multigraph=True, directed=True, oneway_column=\"oneway\")\n",
      "c:\\Users\\krishn001\\peer_ams\\helpers.py:63: RuntimeWarning: The given network consists of multiple geometry types. This can lead to unexpected behaviour. The intended usage of the conversion function is with networks made of LineStrings only.\n",
      "  G_subset = momepy.gdf_to_nx(gdf_sub_loc)\n",
      "c:\\Users\\krishn001\\peer_ams\\helpers.py:63: RuntimeWarning: The given network consists of multiple geometry types. This can lead to unexpected behaviour. The intended usage of the conversion function is with networks made of LineStrings only.\n",
      "  G_subset = momepy.gdf_to_nx(gdf_sub_loc)\n"
     ]
    }
   ],
   "source": [
    "# Nieuwmarkt \n",
    "\n",
    "min_lon_nwmkt, max_lon_nwmkt = 121000, 124000\n",
    "min_lat_nwmkt, max_lat_nwmkt = 486000, 488000\n",
    "\n",
    "df_network_nwmkt = gdf_accessible_pivot.cx[min_lon_nwmkt:max_lon_nwmkt, min_lat_nwmkt:max_lat_nwmkt]\n",
    "\n",
    "# Osdorp Midden \n",
    "\n",
    "min_lon_osdpm, max_lon_osdpm = 112000, 116000\n",
    "min_lat_osdpm, max_lat_osdpm = 484000, 486500\n",
    "\n",
    "df_network_osdpm = gdf_accessible_pivot.cx[min_lon_osdpm:max_lon_osdpm, min_lat_osdpm:max_lat_osdpm]\n",
    "\n",
    "#converts the dataframe to a multigraph network\n",
    "\n",
    "G_nwmkt = momepy.gdf_to_nx(df_network_nwmkt, approach=\"primal\", multigraph=True, directed=True, oneway_column=\"oneway\")\n",
    "G_osdpm = momepy.gdf_to_nx(df_network_osdpm, approach=\"primal\", multigraph=True, directed=True, oneway_column=\"oneway\")\n",
    "\n",
    "gdf_nwmkt_connected, G_nwmkt_connected = h.return_connected_networks(G_nwmkt)\n",
    "gdf_osdpm_connected, G_osdpm_connected = h.return_connected_networks(G_osdpm)\n",
    "\n",
    "\n",
    "G_nwmkt_pt = momepy.gdf_to_nx(df_network_nwmkt[df_network_nwmkt['distance_to_pt_stops']=='<400'], approach=\"primal\", multigraph=True, directed=True, oneway_column=\"oneway\")\n",
    "G_osdpm_pt = momepy.gdf_to_nx(df_network_osdpm[df_network_osdpm['distance_to_pt_stops']=='<400'], approach=\"primal\", multigraph=True, directed=True, oneway_column=\"oneway\")\n",
    "\n",
    "gdf_nwmkt_connected_pt, G_nwmkt_connected_pt = h.return_connected_networks(G_nwmkt_pt)\n",
    "gdf_osdpm_connected_pt, G_osdpm_connected_pt = h.return_connected_networks(G_osdpm_pt)"
   ]
  },
  {
   "cell_type": "markdown",
   "metadata": {},
   "source": [
    "### Save relevant graphs"
   ]
  },
  {
   "cell_type": "code",
   "execution_count": 141,
   "metadata": {},
   "outputs": [],
   "source": [
    "adj_matrix_nwmkt = h.create_adj_matrix(gdf_nwmkt_connected)\n",
    "adj_matrix_osdpm = h.create_adj_matrix(gdf_osdpm_connected)\n",
    "\n",
    "## adj_matrix for graphs with edges where PT stop is less than 300 m\n",
    "\n",
    "adj_matrix_nwmkt_pt = h.create_adj_matrix(gdf_nwmkt_connected_pt)\n",
    "adj_matrix_osdpm_pt = h.create_adj_matrix(gdf_osdpm_connected_pt)\n",
    "\n",
    "# dictionary for mapping node ids\n",
    "\n",
    "node_dict_nwmkt =  h.create_node_dict(gdf_nwmkt_connected)\n",
    "nodde_dict_osdpm = h.create_node_dict(gdf_osdpm_connected)"
   ]
  },
  {
   "cell_type": "markdown",
   "metadata": {},
   "source": [
    "### Link removal for MVP 1 (not used)"
   ]
  },
  {
   "cell_type": "code",
   "execution_count": 142,
   "metadata": {},
   "outputs": [],
   "source": [
    "gdf_link_removal = gdf_osdpm_connected_pt.copy()"
   ]
  },
  {
   "cell_type": "code",
   "execution_count": 143,
   "metadata": {},
   "outputs": [
    {
     "name": "stderr",
     "output_type": "stream",
     "text": [
      "c:\\Users\\krishn001\\AppData\\Local\\anaconda3\\envs\\rl\\Lib\\site-packages\\shapely\\measurement.py:72: RuntimeWarning: invalid value encountered in distance\n",
      "  return lib.distance(a, b, **kwargs)\n"
     ]
    }
   ],
   "source": [
    "#remove edge with point - 52.362872, 4.788045\n",
    "\n",
    "lat = 52.354668  \n",
    "lon = 4.798792 \n",
    "\n",
    "gdf_crs = gdf_link_removal.crs  # Get the CRS of the GeoDataFrame\n",
    "\n",
    "# Define a transformer to convert lat, lon (WGS84) to the CRS of your GeoDataFrame\n",
    "transformer = pyproj.Transformer.from_crs(\"EPSG:4326\", gdf_crs, always_xy=True)\n",
    "\n",
    "\n",
    "x, y = transformer.transform(lon, lat)  # Reverse order for lat, lon -> lon, lat\n",
    "point = Point(x, y)\n",
    "gdf_link_removal['distance'] = gdf_link_removal.geometry.distance(point)\n",
    "gdf_filtered = gdf_link_removal[gdf_link_removal['distance'] > 0.2]\n",
    "gdf_filtered = gdf_filtered.drop(columns='distance')"
   ]
  },
  {
   "cell_type": "code",
   "execution_count": 144,
   "metadata": {},
   "outputs": [],
   "source": [
    "#Osdorp Midden\n",
    "gdf_filtered.to_file(\"preprocessed_data/gdf_filtered.gpkg\", driver='GPKG')\n",
    "adj_matrix_filtered = h.create_adj_matrix(gdf_nwmkt_connected)\n",
    "\n",
    "# Save the adjacency matrix to a text file\n",
    "filename = 'preprocessed_data/adj_matrix_filtered.txt'\n",
    "with open(filename, 'w') as f:\n",
    "    for origin, destinations in adj_matrix_filtered.items():\n",
    "        for destination, properties in destinations.items():\n",
    "            f.write(f\"{origin} {destination} {properties}\\n\")"
   ]
  },
  {
   "cell_type": "markdown",
   "metadata": {},
   "source": [
    "### Store all files"
   ]
  },
  {
   "cell_type": "code",
   "execution_count": 145,
   "metadata": {},
   "outputs": [],
   "source": [
    "# Nieuwmkart\n",
    "\n",
    "gdf_nwmkt_connected.to_file(\"preprocessed_data/gdf_nwmkt_connected.gpkg\", driver='GPKG')\n",
    "gdf_nwmkt_connected_pt.to_file(\"preprocessed_data/gdf_nwmkt_connected_pt.gpkg\", driver='GPKG')\n",
    "\n",
    "with open('preprocessed_data/graph_nwmkt.gpickle', 'wb') as f:\n",
    "    pickle.dump(G_nwmkt_connected, f, pickle.HIGHEST_PROTOCOL)\n",
    "\n",
    "with open('preprocessed_data/graph_nwmkt_pt.gpickle', 'wb') as f:\n",
    "    pickle.dump(G_nwmkt_connected_pt, f, pickle.HIGHEST_PROTOCOL)\n",
    "\n",
    "# Save the adjacency matrix to a text file\n",
    "filename = 'preprocessed_data/adjacency_matrix_nwmkt.txt'\n",
    "with open(filename, 'w') as f:\n",
    "    for origin, destinations in adj_matrix_nwmkt.items():\n",
    "        for destination, properties in destinations.items():\n",
    "            f.write(f\"{origin} {destination} {properties}\\n\")\n",
    "\n",
    "filename = 'preprocessed_data/adjacency_matrix_nwmkt_pt.txt'\n",
    "with open(filename, 'w') as f:\n",
    "    for origin, destinations in adj_matrix_nwmkt_pt.items():\n",
    "        for destination, properties in destinations.items():\n",
    "            f.write(f\"{origin} {destination} {properties}\\n\")\n",
    "\n",
    "with open('preprocessed_data/node_dict_nwmkt.pickle', 'wb') as f:\n",
    "    pickle.dump(node_dict_nwmkt, f)"
   ]
  },
  {
   "cell_type": "code",
   "execution_count": 146,
   "metadata": {},
   "outputs": [],
   "source": [
    "# Osdorp Midden\n",
    "\n",
    "gdf_osdpm_connected.to_file(\"preprocessed_data/gdf_osdpm_connected.gpkg\", driver='GPKG')\n",
    "gdf_osdpm_connected_pt.to_file(\"preprocessed_data/gdf_osdpm_connected_pt.gpkg\", driver='GPKG')\n",
    "\n",
    "with open('preprocessed_data/graph_osdpm.gpickle', 'wb') as f:\n",
    "    pickle.dump(G_osdpm_connected, f, pickle.HIGHEST_PROTOCOL)\n",
    "\n",
    "with open('preprocessed_data/graph_osdpm_pt.gpickle', 'wb') as f:\n",
    "    pickle.dump(G_osdpm_connected_pt, f, pickle.HIGHEST_PROTOCOL)\n",
    "\n",
    "# Save the adjacency matrix to a text file\n",
    "filename = 'preprocessed_data/adjacency_matrix_osdpm.txt'\n",
    "with open(filename, 'w') as f:\n",
    "    for origin, destinations in adj_matrix_osdpm.items():\n",
    "        for destination, properties in destinations.items():\n",
    "            f.write(f\"{origin} {destination} {properties}\\n\")\n",
    "\n",
    "filename = 'preprocessed_data/adjacency_matrix_osdpm_pt.txt'\n",
    "with open(filename, 'w') as f:\n",
    "    for origin, destinations in adj_matrix_osdpm_pt.items():\n",
    "        for destination, properties in destinations.items():\n",
    "            f.write(f\"{origin} {destination} {properties}\\n\")\n",
    "\n",
    "with open('preprocessed_data/node_dict_osdpm.pickle', 'wb') as f:\n",
    "    pickle.dump(nodde_dict_osdpm, f)"
   ]
  }
 ],
 "metadata": {
  "kernelspec": {
   "display_name": "rl",
   "language": "python",
   "name": "python3"
  },
  "language_info": {
   "codemirror_mode": {
    "name": "ipython",
    "version": 3
   },
   "file_extension": ".py",
   "mimetype": "text/x-python",
   "name": "python",
   "nbconvert_exporter": "python",
   "pygments_lexer": "ipython3",
   "version": "3.11.10"
  }
 },
 "nbformat": 4,
 "nbformat_minor": 2
}
